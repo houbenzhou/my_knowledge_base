{
 "cells": [
  {
   "cell_type": "markdown",
   "metadata": {},
   "source": [
    "一、*args：参数中传入元祖，args表示成一个元组"
   ]
  },
  {
   "cell_type": "code",
   "execution_count": 5,
   "metadata": {},
   "outputs": [
    {
     "name": "stdout",
     "output_type": "stream",
     "text": [
      "<class 'tuple'>\n",
      "1\n",
      "2\n",
      "43\n",
      "<enumerate object at 0x7f70202995e8>\n",
      "0->1\n",
      "1->2\n",
      "2->43\n"
     ]
    }
   ],
   "source": [
    "def param_tuple(*args):\n",
    "    print(type(args))\n",
    "    for value in args:\n",
    "        print(value)\n",
    "\n",
    "    print(enumerate(args)) #object\n",
    "    for key,value in enumerate(args):\n",
    "        print(\"{0}->{1}\".format(key,value))\n",
    "param_tuple(1,2,43)"
   ]
  },
  {
   "cell_type": "markdown",
   "metadata": {},
   "source": [
    "二、**kwargs:参数中传入元组，**kwargs表示成一个字典"
   ]
  },
  {
   "cell_type": "code",
   "execution_count": 3,
   "metadata": {},
   "outputs": [
    {
     "name": "stdout",
     "output_type": "stream",
     "text": [
      "<class 'dict'>\n",
      "name==>小明\n",
      "age==>20\n"
     ]
    }
   ],
   "source": [
    "def param_dic(**kwargs):\n",
    "    print(type(kwargs))\n",
    "    for name,age in kwargs.items():\n",
    "        print(\"{0}==>{1}\".format(name,age))\n",
    "\n",
    "param_dic(name=\"小明\",age=20)"
   ]
  },
  {
   "cell_type": "markdown",
   "metadata": {},
   "source": [
    "三、函数的参数中混用tuple和dic"
   ]
  },
  {
   "cell_type": "code",
   "execution_count": 6,
   "metadata": {},
   "outputs": [
    {
     "name": "stdout",
     "output_type": "stream",
     "text": [
      "<class 'tuple'>\n",
      "<class 'dict'>\n",
      "1\n",
      "2\n",
      "3\n",
      "name==>小明\n",
      "age==>10\n"
     ]
    }
   ],
   "source": [
    "def param_tuple_dic(*args,**kwargs):\n",
    "    print(type(args))\n",
    "    print(type(kwargs))\n",
    "    for value in args:\n",
    "        print(value)\n",
    "\n",
    "    for key ,value in kwargs.items():\n",
    "        print(\"{0}==>{1}\".format(key,value))\n",
    "\n",
    "param_tuple_dic(\"1\",\"2\",\"3\",name=\"小明\",age=\"10\")"
   ]
  },
  {
   "cell_type": "markdown",
   "metadata": {},
   "source": [
    "四、**kwargs和*args意思\n",
    "> *args和**kwargs一般是用在函数定义的时候。二者的意义是允许定义的函数接受任意数目的参数。也就是说我们在函数被调用前并不知道也不限制将来参数可以接收的参数数量。在这种情况下我们可以使用*args和**kwargs."
   ]
  },
  {
   "cell_type": "code",
   "execution_count": null,
   "metadata": {},
   "outputs": [],
   "source": []
  },
  {
   "cell_type": "markdown",
   "metadata": {},
   "source": [
    "五、*args的使用\n",
    "> *args用来表示函数接收可变长度的非关键字参数列表作为函数的输入。我们可以通过以下的这个例子来进一步理解*args.\n"
   ]
  },
  {
   "cell_type": "code",
   "execution_count": 9,
   "metadata": {},
   "outputs": [
    {
     "name": "stdout",
     "output_type": "stream",
     "text": [
      "<class 'tuple'>\n",
      "first normal arg:normal\n",
      "another arg through *args:python\n",
      "another arg through *args:java\n",
      "another arg through *args:C#\n"
     ]
    }
   ],
   "source": [
    "def test_args(normal_arg,*args):\n",
    "    print(type(args))\n",
    "    print(\"first normal arg:\"+normal_arg)\n",
    "    for arg in args:\n",
    "        print(\"another arg through *args:\"+arg)\n",
    "\n",
    "test_args(\"normal\",\"python\",\"java\",\"C#\")\n",
    "    "
   ]
  },
  {
   "cell_type": "markdown",
   "metadata": {},
   "source": [
    "六：**kwargs的使用\n",
    "> **kwargs表示函数接收可变长度的关键字参数字典作为函数的输入。当我们需要函数接收带关键字的参数作为输入的时候，应当使用**kwargs."
   ]
  },
  {
   "cell_type": "code",
   "execution_count": 4,
   "metadata": {},
   "outputs": [
    {
     "name": "stdout",
     "output_type": "stream",
     "text": [
      "name=python\n",
      "value=[1, 2, 3, 1]\n"
     ]
    }
   ],
   "source": [
    "def test_kwargs(**kwargs):\n",
    "    if kwargs is not None:\n",
    "        for key,value in kwargs.items():\n",
    "            print(\"{}={}\".format(key,value))\n",
    "#         print(kwargs(\"python\")[0])\n",
    "test_kwargs(name=\"python\",value=[1,2,3,1])"
   ]
  },
  {
   "cell_type": "code",
   "execution_count": null,
   "metadata": {},
   "outputs": [],
   "source": []
  },
  {
   "cell_type": "code",
   "execution_count": 7,
   "metadata": {},
   "outputs": [
    {
     "name": "stdout",
     "output_type": "stream",
     "text": [
      "小明\n"
     ]
    }
   ],
   "source": [
    "def param_dic(**kwargs):\n",
    "#     print(type(kwargs))\n",
    "#     for name,age in kwargs.items():\n",
    "#         print(\"{0}==>{1}\".format(name,age))\n",
    "    print(kwargs.pop('name'))\n",
    "param_dic(name=\"小明\")"
   ]
  },
  {
   "cell_type": "code",
   "execution_count": null,
   "metadata": {},
   "outputs": [],
   "source": []
  },
  {
   "cell_type": "code",
   "execution_count": null,
   "metadata": {},
   "outputs": [],
   "source": []
  },
  {
   "cell_type": "code",
   "execution_count": null,
   "metadata": {},
   "outputs": [],
   "source": []
  },
  {
   "cell_type": "code",
   "execution_count": null,
   "metadata": {},
   "outputs": [],
   "source": []
  },
  {
   "cell_type": "code",
   "execution_count": null,
   "metadata": {},
   "outputs": [],
   "source": []
  },
  {
   "cell_type": "code",
   "execution_count": null,
   "metadata": {},
   "outputs": [],
   "source": []
  },
  {
   "cell_type": "code",
   "execution_count": null,
   "metadata": {},
   "outputs": [],
   "source": []
  },
  {
   "cell_type": "code",
   "execution_count": null,
   "metadata": {},
   "outputs": [],
   "source": []
  },
  {
   "cell_type": "code",
   "execution_count": null,
   "metadata": {},
   "outputs": [],
   "source": []
  },
  {
   "cell_type": "code",
   "execution_count": null,
   "metadata": {},
   "outputs": [],
   "source": []
  },
  {
   "cell_type": "code",
   "execution_count": null,
   "metadata": {},
   "outputs": [],
   "source": []
  },
  {
   "cell_type": "code",
   "execution_count": null,
   "metadata": {},
   "outputs": [],
   "source": []
  },
  {
   "cell_type": "code",
   "execution_count": null,
   "metadata": {},
   "outputs": [],
   "source": []
  }
 ],
 "metadata": {
  "kernelspec": {
   "display_name": "Python 3",
   "language": "python",
   "name": "python3"
  },
  "language_info": {
   "codemirror_mode": {
    "name": "ipython",
    "version": 3
   },
   "file_extension": ".py",
   "mimetype": "text/x-python",
   "name": "python",
   "nbconvert_exporter": "python",
   "pygments_lexer": "ipython3",
   "version": "3.6.9"
  }
 },
 "nbformat": 4,
 "nbformat_minor": 4
}
